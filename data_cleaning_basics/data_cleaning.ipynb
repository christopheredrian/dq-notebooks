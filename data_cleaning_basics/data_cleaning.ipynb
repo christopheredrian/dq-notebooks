{
 "cells": [
  {
   "cell_type": "code",
   "execution_count": 715,
   "metadata": {},
   "outputs": [],
   "source": [
    "import pandas as pd "
   ]
  },
  {
   "cell_type": "code",
   "execution_count": 716,
   "metadata": {},
   "outputs": [
    {
     "name": "stdout",
     "output_type": "stream",
     "text": [
      "<class 'pandas.core.frame.DataFrame'>\n",
      "RangeIndex: 1303 entries, 0 to 1302\n",
      "Data columns (total 13 columns):\n",
      " #   Column                    Non-Null Count  Dtype \n",
      "---  ------                    --------------  ----- \n",
      " 0   Manufacturer              1303 non-null   object\n",
      " 1   Model Name                1303 non-null   object\n",
      " 2   Category                  1303 non-null   object\n",
      " 3   Screen Size               1303 non-null   object\n",
      " 4   Screen                    1303 non-null   object\n",
      " 5   CPU                       1303 non-null   object\n",
      " 6   RAM                       1303 non-null   object\n",
      " 7    Storage                  1303 non-null   object\n",
      " 8   GPU                       1303 non-null   object\n",
      " 9   Operating System          1303 non-null   object\n",
      " 10  Operating System Version  1133 non-null   object\n",
      " 11  Weight                    1303 non-null   object\n",
      " 12  Price (Euros)             1303 non-null   object\n",
      "dtypes: object(13)\n",
      "memory usage: 132.5+ KB\n"
     ]
    }
   ],
   "source": [
    "# 1. Read the file \n",
    "laptops = pd.read_csv('laptops.csv', encoding='utf-8')\n",
    "\n",
    "laptops.info()\n",
    "# patche object ya ing type, string ya "
   ]
  },
  {
   "cell_type": "code",
   "execution_count": 717,
   "metadata": {},
   "outputs": [
    {
     "data": {
      "text/plain": [
       "Index(['Manufacturer', 'Model Name', 'Category', 'Screen Size', 'Screen',\n",
       "       'CPU', 'RAM', ' Storage', 'GPU', 'Operating System',\n",
       "       'Operating System Version', 'Weight', 'Price (Euros)'],\n",
       "      dtype='object')"
      ]
     },
     "execution_count": 717,
     "metadata": {},
     "output_type": "execute_result"
    }
   ],
   "source": [
    "# len ta la deng columns\n",
    "laptops.columns\n",
    "\n",
    "# pansinan me ing storage atin yang pre-pended a space ' Storage'"
   ]
  },
  {
   "cell_type": "code",
   "execution_count": 718,
   "metadata": {},
   "outputs": [
    {
     "name": "stdout",
     "output_type": "stream",
     "text": [
      "Index(['A', 'B', 'C', 'D', 'E', 'F', 'G', 'H', 'I', 'J', 'K', 'L', 'M'], dtype='object')\n"
     ]
    }
   ],
   "source": [
    "# copying data\n",
    "laptops_test = laptops.copy()\n",
    "\n",
    "# replacing columns \n",
    "laptops_test.columns = ['A', 'B', 'C', 'D', 'E', 'F', 'G', 'H', 'I', 'J', 'K', 'L', 'M']\n",
    "print(laptops_test.columns)\n",
    "# laptops_test.columns"
   ]
  },
  {
   "cell_type": "markdown",
   "metadata": {},
   "source": [
    "## Cleaning Columns \n",
    "1. Remove whitespaces\n",
    "2. Replaces all spaces with underscores.\n",
    "3. Removes parentheses from the string.\n",
    "4. Makes the entire string lowercase.\n",
    "5. Returns the modified string"
   ]
  },
  {
   "cell_type": "code",
   "execution_count": 719,
   "metadata": {},
   "outputs": [],
   "source": [
    "def clean_column(column):\n",
    "    # 1. Remove whitespaces\n",
    "    # 2. Replaces all spaces with underscores.\n",
    "    # 3. Removes parentheses from the string.\n",
    "    # 4. Makes the entire string lowercase.\n",
    "    # 5. Returns the modified string\n",
    "    column = column.strip()\n",
    "    column = column.replace(\"(\", \"\")\n",
    "    column = column.replace(\")\", \"\")\n",
    "    column = column.lower()\n",
    "    column = column.replace(\" \", \"_\")\n",
    "    \n",
    "    return column\n",
    "    \n",
    "new_columns = []\n",
    "\n",
    "for column in laptops.columns:\n",
    "    new_columns.append(clean_column(column))\n",
    "    \n",
    "\n",
    "laptops.columns = new_columns"
   ]
  },
  {
   "cell_type": "code",
   "execution_count": 720,
   "metadata": {},
   "outputs": [
    {
     "name": "stdout",
     "output_type": "stream",
     "text": [
      "    category screen_size                              screen\n",
      "0  Ultrabook       13.3\"  IPS Panel Retina Display 2560x1600\n",
      "1  Ultrabook       13.3\"                            1440x900\n",
      "2   Notebook       15.6\"                   Full HD 1920x1080\n",
      "3  Ultrabook       15.4\"  IPS Panel Retina Display 2880x1800\n",
      "4  Ultrabook       13.3\"  IPS Panel Retina Display 2560x1600\n"
     ]
    }
   ],
   "source": [
    "print(laptops.iloc[:5,2:5])\n",
    "\n",
    "# notice screen sizes are in inches string 13.3\", meaning we cannot \n",
    "# calculate values from these, let's convert "
   ]
  },
  {
   "cell_type": "markdown",
   "metadata": {},
   "source": [
    "## Data Cleaning Workflow \n",
    "\n",
    "1. Explore the data in column \n",
    "2. Identify patterns & special cases\n",
    "3. Remove non-digit characters\n",
    "4. Convert the column to a numeric dtype\n",
    "5. Rename column if required"
   ]
  },
  {
   "cell_type": "code",
   "execution_count": 721,
   "metadata": {},
   "outputs": [
    {
     "data": {
      "text/plain": [
       "dtype('O')"
      ]
     },
     "execution_count": 721,
     "metadata": {},
     "output_type": "execute_result"
    }
   ],
   "source": [
    "# When you see dtype('O') inside dataframe this means Pandas string.\n",
    "# Reference: https://stackoverflow.com/questions/37561991/what-is-dtypeo\n",
    "\n",
    "laptops[\"screen_size\"].dtype  # string "
   ]
  },
  {
   "cell_type": "code",
   "execution_count": 722,
   "metadata": {},
   "outputs": [
    {
     "data": {
      "text/plain": [
       "array(['10.1\"', '11.3\"', '11.6\"', '12.0\"', '12.3\"', '12.5\"', '13.0\"',\n",
       "       '13.3\"', '13.5\"', '13.9\"', '14.0\"', '14.1\"', '15.0\"', '15.4\"',\n",
       "       '15.6\"', '17.0\"', '17.3\"', '18.4\"'], dtype=object)"
      ]
     },
     "execution_count": 722,
     "metadata": {},
     "output_type": "execute_result"
    }
   ],
   "source": [
    "# Getting unique values\n",
    "laptops[\"screen_size\"].sort_values().unique()"
   ]
  },
  {
   "cell_type": "code",
   "execution_count": 723,
   "metadata": {},
   "outputs": [
    {
     "name": "stdout",
     "output_type": "stream",
     "text": [
      "['8GB' '16GB' '4GB' '2GB' '12GB' '6GB' '32GB' '24GB' '64GB']\n"
     ]
    }
   ],
   "source": [
    "# unique \"RAM\"\n",
    "unique_ram = laptops[\"ram\"].unique()\n",
    "print(unique_ram)"
   ]
  },
  {
   "cell_type": "markdown",
   "metadata": {},
   "source": [
    "## Vectorized String methods "
   ]
  },
  {
   "cell_type": "code",
   "execution_count": 724,
   "metadata": {},
   "outputs": [
    {
     "name": "stdout",
     "output_type": "stream",
     "text": [
      "['13.3' '15.6' '15.4' '14.0' '12.0' '11.6' '17.3' '10.1' '13.5' '12.5'\n",
      " '13.0' '18.4' '13.9' '12.3' '17.0' '15.0' '14.1' '11.3']\n"
     ]
    }
   ],
   "source": [
    "# removing quotes in screen size\n",
    "\n",
    "laptops[\"screen_size\"] = laptops[\"screen_size\"].str.replace('\"', \"\")\n",
    "print(laptops[\"screen_size\"].unique())"
   ]
  },
  {
   "cell_type": "code",
   "execution_count": 725,
   "metadata": {},
   "outputs": [
    {
     "name": "stdout",
     "output_type": "stream",
     "text": [
      "['8' '16' '4' '2' '12' '6' '32' '24' '64']\n"
     ]
    }
   ],
   "source": [
    "# removing \"GB\" in ram \n",
    "laptops[\"ram\"] = laptops[\"ram\"].str.lower().str.replace(\"gb\", \"\")\n",
    "print(laptops[\"ram\"].unique())"
   ]
  },
  {
   "cell_type": "markdown",
   "metadata": {},
   "source": [
    "## Convert to Numeric Types"
   ]
  },
  {
   "cell_type": "code",
   "execution_count": 726,
   "metadata": {},
   "outputs": [
    {
     "name": "stdout",
     "output_type": "stream",
     "text": [
      "[13.3 15.6 15.4 14.  12.  11.6 17.3 10.1 13.5 12.5 13.  18.4 13.9 12.3\n",
      " 17.  15.  14.1 11.3]\n"
     ]
    }
   ],
   "source": [
    "# convert screen sizes to float \n",
    "laptops[\"screen_size\"] = laptops[\"screen_size\"].astype(float)\n",
    "print(laptops[\"screen_size\"].unique())"
   ]
  },
  {
   "cell_type": "code",
   "execution_count": 727,
   "metadata": {},
   "outputs": [
    {
     "name": "stdout",
     "output_type": "stream",
     "text": [
      "0        8\n",
      "1        8\n",
      "2        8\n",
      "3       16\n",
      "4        8\n",
      "        ..\n",
      "1298     4\n",
      "1299    16\n",
      "1300     2\n",
      "1301     6\n",
      "1302     4\n",
      "Name: ram, Length: 1303, dtype: int64\n"
     ]
    }
   ],
   "source": [
    "# convert ram to float\n",
    "laptops[\"ram\"] = laptops[\"ram\"].astype(int)\n",
    "print(laptops[\"ram\"])"
   ]
  },
  {
   "cell_type": "code",
   "execution_count": 728,
   "metadata": {},
   "outputs": [
    {
     "data": {
      "text/plain": [
       "manufacturer                 object\n",
       "model_name                   object\n",
       "category                     object\n",
       "screen_size                 float64\n",
       "screen                       object\n",
       "cpu                          object\n",
       "ram                           int64\n",
       "storage                      object\n",
       "gpu                          object\n",
       "operating_system             object\n",
       "operating_system_version     object\n",
       "weight                       object\n",
       "price_euros                  object\n",
       "dtype: object"
      ]
     },
     "execution_count": 728,
     "metadata": {},
     "output_type": "execute_result"
    }
   ],
   "source": [
    "laptops.dtypes"
   ]
  },
  {
   "cell_type": "markdown",
   "metadata": {},
   "source": [
    "## Renaming columns\n",
    "\n",
    "Sometimes when we clean & format data, the original column name may not fully describe the original data, so it would be useful if we can rename these columns. We can use the `DataFrame.rename()` method to do so."
   ]
  },
  {
   "cell_type": "code",
   "execution_count": 729,
   "metadata": {},
   "outputs": [
    {
     "name": "stdout",
     "output_type": "stream",
     "text": [
      "0       13.3\n",
      "1       13.3\n",
      "2       15.6\n",
      "3       15.4\n",
      "4       13.3\n",
      "        ... \n",
      "1298    14.0\n",
      "1299    13.3\n",
      "1300    14.0\n",
      "1301    15.6\n",
      "1302    15.6\n",
      "Name: screen_size_inches, Length: 1303, dtype: float64\n"
     ]
    }
   ],
   "source": [
    "# rename screen_size to screen_size_inches \n",
    "laptops.rename({\"screen_size\": \"screen_size_inches\"}, axis = 1, inplace = True)\n",
    "print(laptops[\"screen_size_inches\"])"
   ]
  },
  {
   "cell_type": "code",
   "execution_count": 730,
   "metadata": {},
   "outputs": [
    {
     "data": {
      "text/plain": [
       "count    1303.000000\n",
       "mean        8.382195\n",
       "std         5.084665\n",
       "min         2.000000\n",
       "25%         4.000000\n",
       "50%         8.000000\n",
       "75%         8.000000\n",
       "max        64.000000\n",
       "Name: ram_gb, dtype: float64"
      ]
     },
     "execution_count": 730,
     "metadata": {},
     "output_type": "execute_result"
    }
   ],
   "source": [
    "# rename ram column to ram_gb\n",
    "laptops.rename({\"ram\": \"ram_gb\"}, inplace=True, axis=1)\n",
    "ram_gb_desc = laptops[\"ram_gb\"].describe()\n",
    "ram_gb_desc\n",
    "# laptops"
   ]
  },
  {
   "cell_type": "code",
   "execution_count": 731,
   "metadata": {},
   "outputs": [
    {
     "data": {
      "text/plain": [
       "0    Intel\n",
       "1    Intel\n",
       "2    Intel\n",
       "3      AMD\n",
       "4    Intel\n",
       "Name: gpu, dtype: object"
      ]
     },
     "execution_count": 731,
     "metadata": {},
     "output_type": "execute_result"
    }
   ],
   "source": [
    "# Vectorized splitting \n",
    "laptops[\"gpu\"].head().str.split().str[0]"
   ]
  },
  {
   "cell_type": "code",
   "execution_count": 732,
   "metadata": {},
   "outputs": [
    {
     "data": {
      "text/plain": [
       "Intel      1240\n",
       "AMD          62\n",
       "Samsung       1\n",
       "Name: cpu, dtype: int64"
      ]
     },
     "execution_count": 732,
     "metadata": {},
     "output_type": "execute_result"
    }
   ],
   "source": [
    "# laptops.head()\n",
    "\n",
    "# Exctract the manufacturer name \n",
    "cpu_manufacturer = laptops[\"cpu\"].str.split().str[0]\n",
    "\n",
    "# Assign as new column \n",
    "laptops[\"cpu_manufacturer\"] = cpu_manufacturer\n",
    "\n",
    "cpu_manufacturer_counts = cpu_manufacturer.value_counts() # Frequency Distribution \n",
    "cpu_manufacturer_counts\n",
    "# laptops\n"
   ]
  },
  {
   "cell_type": "markdown",
   "metadata": {},
   "source": [
    "## Series Mapping \n",
    "\n",
    "Consider the following example:"
   ]
  },
  {
   "cell_type": "code",
   "execution_count": 733,
   "metadata": {},
   "outputs": [
    {
     "name": "stdout",
     "output_type": "stream",
     "text": [
      "Windows      1125\n",
      "No OS          66\n",
      "Linux          62\n",
      "Chrome OS      27\n",
      "macOS          13\n",
      "Mac OS          8\n",
      "Android         2\n",
      "Name: operating_system, dtype: int64\n"
     ]
    }
   ],
   "source": [
    "# laptops.head()\n",
    "print(laptops[\"operating_system\"].value_counts())"
   ]
  },
  {
   "cell_type": "markdown",
   "metadata": {},
   "source": [
    "`macOS` and `Mac OS` should be aggregated, in this case we can utilize the `Series.map()` fn"
   ]
  },
  {
   "cell_type": "code",
   "execution_count": 734,
   "metadata": {},
   "outputs": [
    {
     "data": {
      "text/plain": [
       "Windows      1125\n",
       "No OS          66\n",
       "Linux          62\n",
       "Chrome OS      27\n",
       "macOS          21\n",
       "Android         2\n",
       "Name: os, dtype: int64"
      ]
     },
     "execution_count": 734,
     "metadata": {},
     "output_type": "execute_result"
    }
   ],
   "source": [
    "mapping_dict = {\n",
    "    'Android': 'Android',\n",
    "    'Chrome OS': 'Chrome OS',\n",
    "    'Linux': 'Linux',\n",
    "    'Mac OS': 'macOS',\n",
    "    'No OS': 'No OS',\n",
    "    'Windows': 'Windows',\n",
    "    'macOS': 'macOS'\n",
    "}\n",
    "\n",
    "laptops[\"os\"] = laptops[\"operating_system\"].map(mapping_dict)\n",
    "laptops[\"os\"].value_counts()\n",
    "# laptops.head(2)"
   ]
  },
  {
   "cell_type": "markdown",
   "metadata": {},
   "source": [
    "## Identifying missing values\n",
    "\n",
    "Once identified, there are a few options for handling missing values:\n",
    "1. Remove any rows that have missing values.\n",
    "2. Remove any columns that have missing values.\n",
    "3. Fill the missing values with some other value.\n",
    "4. Leave the missing values as is.\n",
    "\n",
    "First two are typically used for machine learning algorithms.\n",
    "\n",
    "We can do so by using the `DataFrame.dropna()` method\n"
   ]
  },
  {
   "cell_type": "code",
   "execution_count": 735,
   "metadata": {},
   "outputs": [
    {
     "data": {
      "text/html": [
       "<div>\n",
       "<style scoped>\n",
       "    .dataframe tbody tr th:only-of-type {\n",
       "        vertical-align: middle;\n",
       "    }\n",
       "\n",
       "    .dataframe tbody tr th {\n",
       "        vertical-align: top;\n",
       "    }\n",
       "\n",
       "    .dataframe thead th {\n",
       "        text-align: right;\n",
       "    }\n",
       "</style>\n",
       "<table border=\"1\" class=\"dataframe\">\n",
       "  <thead>\n",
       "    <tr style=\"text-align: right;\">\n",
       "      <th></th>\n",
       "      <th>manufacturer</th>\n",
       "      <th>model_name</th>\n",
       "      <th>category</th>\n",
       "      <th>screen_size_inches</th>\n",
       "      <th>screen</th>\n",
       "      <th>cpu</th>\n",
       "      <th>ram_gb</th>\n",
       "      <th>storage</th>\n",
       "      <th>gpu</th>\n",
       "      <th>operating_system</th>\n",
       "      <th>operating_system_version</th>\n",
       "      <th>weight</th>\n",
       "      <th>price_euros</th>\n",
       "      <th>cpu_manufacturer</th>\n",
       "      <th>os</th>\n",
       "    </tr>\n",
       "  </thead>\n",
       "  <tbody>\n",
       "    <tr>\n",
       "      <th>0</th>\n",
       "      <td>False</td>\n",
       "      <td>False</td>\n",
       "      <td>False</td>\n",
       "      <td>False</td>\n",
       "      <td>False</td>\n",
       "      <td>False</td>\n",
       "      <td>False</td>\n",
       "      <td>False</td>\n",
       "      <td>False</td>\n",
       "      <td>False</td>\n",
       "      <td>True</td>\n",
       "      <td>False</td>\n",
       "      <td>False</td>\n",
       "      <td>False</td>\n",
       "      <td>False</td>\n",
       "    </tr>\n",
       "    <tr>\n",
       "      <th>1</th>\n",
       "      <td>False</td>\n",
       "      <td>False</td>\n",
       "      <td>False</td>\n",
       "      <td>False</td>\n",
       "      <td>False</td>\n",
       "      <td>False</td>\n",
       "      <td>False</td>\n",
       "      <td>False</td>\n",
       "      <td>False</td>\n",
       "      <td>False</td>\n",
       "      <td>True</td>\n",
       "      <td>False</td>\n",
       "      <td>False</td>\n",
       "      <td>False</td>\n",
       "      <td>False</td>\n",
       "    </tr>\n",
       "    <tr>\n",
       "      <th>2</th>\n",
       "      <td>False</td>\n",
       "      <td>False</td>\n",
       "      <td>False</td>\n",
       "      <td>False</td>\n",
       "      <td>False</td>\n",
       "      <td>False</td>\n",
       "      <td>False</td>\n",
       "      <td>False</td>\n",
       "      <td>False</td>\n",
       "      <td>False</td>\n",
       "      <td>True</td>\n",
       "      <td>False</td>\n",
       "      <td>False</td>\n",
       "      <td>False</td>\n",
       "      <td>False</td>\n",
       "    </tr>\n",
       "    <tr>\n",
       "      <th>3</th>\n",
       "      <td>False</td>\n",
       "      <td>False</td>\n",
       "      <td>False</td>\n",
       "      <td>False</td>\n",
       "      <td>False</td>\n",
       "      <td>False</td>\n",
       "      <td>False</td>\n",
       "      <td>False</td>\n",
       "      <td>False</td>\n",
       "      <td>False</td>\n",
       "      <td>True</td>\n",
       "      <td>False</td>\n",
       "      <td>False</td>\n",
       "      <td>False</td>\n",
       "      <td>False</td>\n",
       "    </tr>\n",
       "    <tr>\n",
       "      <th>4</th>\n",
       "      <td>False</td>\n",
       "      <td>False</td>\n",
       "      <td>False</td>\n",
       "      <td>False</td>\n",
       "      <td>False</td>\n",
       "      <td>False</td>\n",
       "      <td>False</td>\n",
       "      <td>False</td>\n",
       "      <td>False</td>\n",
       "      <td>False</td>\n",
       "      <td>True</td>\n",
       "      <td>False</td>\n",
       "      <td>False</td>\n",
       "      <td>False</td>\n",
       "      <td>False</td>\n",
       "    </tr>\n",
       "  </tbody>\n",
       "</table>\n",
       "</div>"
      ],
      "text/plain": [
       "   manufacturer  model_name  category  screen_size_inches  screen    cpu  \\\n",
       "0         False       False     False               False   False  False   \n",
       "1         False       False     False               False   False  False   \n",
       "2         False       False     False               False   False  False   \n",
       "3         False       False     False               False   False  False   \n",
       "4         False       False     False               False   False  False   \n",
       "\n",
       "   ram_gb  storage    gpu  operating_system  operating_system_version  weight  \\\n",
       "0   False    False  False             False                      True   False   \n",
       "1   False    False  False             False                      True   False   \n",
       "2   False    False  False             False                      True   False   \n",
       "3   False    False  False             False                      True   False   \n",
       "4   False    False  False             False                      True   False   \n",
       "\n",
       "   price_euros  cpu_manufacturer     os  \n",
       "0        False             False  False  \n",
       "1        False             False  False  \n",
       "2        False             False  False  \n",
       "3        False             False  False  \n",
       "4        False             False  False  "
      ]
     },
     "execution_count": 735,
     "metadata": {},
     "output_type": "execute_result"
    }
   ],
   "source": [
    "# In a data frame, identify what are the null and non-null cells\n",
    "laptops.head().isnull()\n",
    "# laptops[\"operating_system_version\"].isnull().value_counts()"
   ]
  },
  {
   "cell_type": "code",
   "execution_count": 736,
   "metadata": {},
   "outputs": [
    {
     "data": {
      "text/plain": [
       "(1303, 15)"
      ]
     },
     "execution_count": 736,
     "metadata": {},
     "output_type": "execute_result"
    }
   ],
   "source": [
    "# check original count\n",
    "laptops.shape"
   ]
  },
  {
   "cell_type": "code",
   "execution_count": 737,
   "metadata": {},
   "outputs": [
    {
     "data": {
      "text/plain": [
       "(1133, 15)"
      ]
     },
     "execution_count": 737,
     "metadata": {},
     "output_type": "execute_result"
    }
   ],
   "source": [
    "# drop all with null\n",
    "# axis 0 ~ x drops rows \n",
    "# axis 1 ~ y drops columns with null values\n",
    "laptops.dropna(axis=0).shape # 1303 - 1133 "
   ]
  },
  {
   "cell_type": "markdown",
   "metadata": {},
   "source": [
    "## Replacing missing values\n",
    "\n",
    "Sometimes we dont want to drop since it can greatly affect our results, in some cases we can replace these values with whatever is appropriate for null values (mean, mode,.etc)\n",
    "\n",
    "Let's check out the data first"
   ]
  },
  {
   "cell_type": "code",
   "execution_count": 738,
   "metadata": {},
   "outputs": [
    {
     "data": {
      "text/plain": [
       "10      1072\n",
       "NaN      170\n",
       "7         45\n",
       "X          8\n",
       "10 S       8\n",
       "Name: operating_system_version, dtype: int64"
      ]
     },
     "execution_count": 738,
     "metadata": {},
     "output_type": "execute_result"
    }
   ],
   "source": [
    "laptops[\"operating_system_version\"].value_counts(dropna=False) ## include null values"
   ]
  },
  {
   "cell_type": "code",
   "execution_count": 739,
   "metadata": {},
   "outputs": [
    {
     "data": {
      "text/plain": [
       "No OS        66\n",
       "Linux        62\n",
       "Chrome OS    27\n",
       "macOS        13\n",
       "Android       2\n",
       "Name: os, dtype: int64"
      ]
     },
     "execution_count": 739,
     "metadata": {},
     "output_type": "execute_result"
    }
   ],
   "source": [
    "# Print the operating systems with null os version values \n",
    "os_with_null_value = laptops.loc[laptops[\"operating_system_version\"].isnull(), \"os\"]\n",
    "os_with_null_value.value_counts()\n"
   ]
  },
  {
   "cell_type": "code",
   "execution_count": 740,
   "metadata": {},
   "outputs": [],
   "source": [
    "# We know that macOS should be asigned to \"X\" on their os system version\n",
    "laptops.loc[laptops[\"operating_system\"] == \"macOS\", \"operating_system_version\"] = \"X\""
   ]
  },
  {
   "cell_type": "code",
   "execution_count": 741,
   "metadata": {},
   "outputs": [
    {
     "data": {
      "text/plain": [
       "No OS        66\n",
       "Linux        62\n",
       "Chrome OS    27\n",
       "Android       2\n",
       "Name: os, dtype: int64"
      ]
     },
     "execution_count": 741,
     "metadata": {},
     "output_type": "execute_result"
    }
   ],
   "source": [
    "os_with_null_value = laptops.loc[laptops[\"operating_system_version\"].isnull(), \"os\"]\n",
    "os_with_null_value.value_counts()"
   ]
  },
  {
   "cell_type": "code",
   "execution_count": 742,
   "metadata": {},
   "outputs": [
    {
     "data": {
      "text/html": [
       "<div>\n",
       "<style scoped>\n",
       "    .dataframe tbody tr th:only-of-type {\n",
       "        vertical-align: middle;\n",
       "    }\n",
       "\n",
       "    .dataframe tbody tr th {\n",
       "        vertical-align: top;\n",
       "    }\n",
       "\n",
       "    .dataframe thead th {\n",
       "        text-align: right;\n",
       "    }\n",
       "</style>\n",
       "<table border=\"1\" class=\"dataframe\">\n",
       "  <thead>\n",
       "    <tr style=\"text-align: right;\">\n",
       "      <th></th>\n",
       "      <th>manufacturer</th>\n",
       "      <th>model_name</th>\n",
       "      <th>category</th>\n",
       "      <th>screen_size_inches</th>\n",
       "      <th>screen</th>\n",
       "      <th>cpu</th>\n",
       "      <th>ram_gb</th>\n",
       "      <th>storage</th>\n",
       "      <th>gpu</th>\n",
       "      <th>operating_system</th>\n",
       "      <th>operating_system_version</th>\n",
       "      <th>weight</th>\n",
       "      <th>price_euros</th>\n",
       "      <th>cpu_manufacturer</th>\n",
       "      <th>os</th>\n",
       "    </tr>\n",
       "  </thead>\n",
       "  <tbody>\n",
       "    <tr>\n",
       "      <th>2</th>\n",
       "      <td>HP</td>\n",
       "      <td>250 G6</td>\n",
       "      <td>Notebook</td>\n",
       "      <td>15.6</td>\n",
       "      <td>Full HD 1920x1080</td>\n",
       "      <td>Intel Core i5 7200U 2.5GHz</td>\n",
       "      <td>8</td>\n",
       "      <td>256GB SSD</td>\n",
       "      <td>Intel HD Graphics 620</td>\n",
       "      <td>No OS</td>\n",
       "      <td>Version Unknown</td>\n",
       "      <td>1.86kg</td>\n",
       "      <td>575,00</td>\n",
       "      <td>Intel</td>\n",
       "      <td>No OS</td>\n",
       "    </tr>\n",
       "    <tr>\n",
       "      <th>10</th>\n",
       "      <td>HP</td>\n",
       "      <td>250 G6</td>\n",
       "      <td>Notebook</td>\n",
       "      <td>15.6</td>\n",
       "      <td>1366x768</td>\n",
       "      <td>Intel Core i5 7200U 2.5GHz</td>\n",
       "      <td>4</td>\n",
       "      <td>500GB HDD</td>\n",
       "      <td>Intel HD Graphics 620</td>\n",
       "      <td>No OS</td>\n",
       "      <td>Version Unknown</td>\n",
       "      <td>1.86kg</td>\n",
       "      <td>393,90</td>\n",
       "      <td>Intel</td>\n",
       "      <td>No OS</td>\n",
       "    </tr>\n",
       "    <tr>\n",
       "      <th>11</th>\n",
       "      <td>HP</td>\n",
       "      <td>250 G6</td>\n",
       "      <td>Notebook</td>\n",
       "      <td>15.6</td>\n",
       "      <td>Full HD 1920x1080</td>\n",
       "      <td>Intel Core i3 6006U 2GHz</td>\n",
       "      <td>4</td>\n",
       "      <td>500GB HDD</td>\n",
       "      <td>Intel HD Graphics 520</td>\n",
       "      <td>No OS</td>\n",
       "      <td>Version Unknown</td>\n",
       "      <td>1.86kg</td>\n",
       "      <td>344,99</td>\n",
       "      <td>Intel</td>\n",
       "      <td>No OS</td>\n",
       "    </tr>\n",
       "    <tr>\n",
       "      <th>18</th>\n",
       "      <td>Lenovo</td>\n",
       "      <td>IdeaPad 320-15IKB</td>\n",
       "      <td>Notebook</td>\n",
       "      <td>15.6</td>\n",
       "      <td>Full HD 1920x1080</td>\n",
       "      <td>Intel Core i3 7100U 2.4GHz</td>\n",
       "      <td>8</td>\n",
       "      <td>1TB HDD</td>\n",
       "      <td>Nvidia GeForce 940MX</td>\n",
       "      <td>No OS</td>\n",
       "      <td>Version Unknown</td>\n",
       "      <td>2.2kg</td>\n",
       "      <td>499,00</td>\n",
       "      <td>Intel</td>\n",
       "      <td>No OS</td>\n",
       "    </tr>\n",
       "    <tr>\n",
       "      <th>22</th>\n",
       "      <td>HP</td>\n",
       "      <td>255 G6</td>\n",
       "      <td>Notebook</td>\n",
       "      <td>15.6</td>\n",
       "      <td>1366x768</td>\n",
       "      <td>AMD E-Series E2-9000e 1.5GHz</td>\n",
       "      <td>4</td>\n",
       "      <td>500GB HDD</td>\n",
       "      <td>AMD Radeon R2</td>\n",
       "      <td>No OS</td>\n",
       "      <td>Version Unknown</td>\n",
       "      <td>1.86kg</td>\n",
       "      <td>258,00</td>\n",
       "      <td>AMD</td>\n",
       "      <td>No OS</td>\n",
       "    </tr>\n",
       "  </tbody>\n",
       "</table>\n",
       "</div>"
      ],
      "text/plain": [
       "   manufacturer         model_name  category  screen_size_inches  \\\n",
       "2            HP             250 G6  Notebook                15.6   \n",
       "10           HP             250 G6  Notebook                15.6   \n",
       "11           HP             250 G6  Notebook                15.6   \n",
       "18       Lenovo  IdeaPad 320-15IKB  Notebook                15.6   \n",
       "22           HP             255 G6  Notebook                15.6   \n",
       "\n",
       "               screen                           cpu  ram_gb    storage  \\\n",
       "2   Full HD 1920x1080    Intel Core i5 7200U 2.5GHz       8  256GB SSD   \n",
       "10           1366x768    Intel Core i5 7200U 2.5GHz       4  500GB HDD   \n",
       "11  Full HD 1920x1080      Intel Core i3 6006U 2GHz       4  500GB HDD   \n",
       "18  Full HD 1920x1080    Intel Core i3 7100U 2.4GHz       8    1TB HDD   \n",
       "22           1366x768  AMD E-Series E2-9000e 1.5GHz       4  500GB HDD   \n",
       "\n",
       "                      gpu operating_system operating_system_version  weight  \\\n",
       "2   Intel HD Graphics 620            No OS          Version Unknown  1.86kg   \n",
       "10  Intel HD Graphics 620            No OS          Version Unknown  1.86kg   \n",
       "11  Intel HD Graphics 520            No OS          Version Unknown  1.86kg   \n",
       "18   Nvidia GeForce 940MX            No OS          Version Unknown   2.2kg   \n",
       "22          AMD Radeon R2            No OS          Version Unknown  1.86kg   \n",
       "\n",
       "   price_euros cpu_manufacturer     os  \n",
       "2       575,00            Intel  No OS  \n",
       "10      393,90            Intel  No OS  \n",
       "11      344,99            Intel  No OS  \n",
       "18      499,00            Intel  No OS  \n",
       "22      258,00              AMD  No OS  "
      ]
     },
     "execution_count": 742,
     "metadata": {},
     "output_type": "execute_result"
    }
   ],
   "source": [
    "laptops.loc[laptops[\"operating_system\"] == \"No OS\", \"operating_system_version\"] = \"Version Unknown\"\n",
    "laptops.loc[laptops[\"operating_system\"] == \"No OS\",].head()"
   ]
  },
  {
   "cell_type": "markdown",
   "metadata": {},
   "source": [
    "## Cleaning the Weight as well "
   ]
  },
  {
   "cell_type": "code",
   "execution_count": 743,
   "metadata": {},
   "outputs": [
    {
     "name": "stdout",
     "output_type": "stream",
     "text": [
      "0    1.37kg\n",
      "1    1.34kg\n",
      "2    1.86kg\n",
      "3    1.83kg\n",
      "4    1.37kg\n",
      "Name: weight, dtype: object\n"
     ]
    }
   ],
   "source": [
    "print(laptops[\"weight\"].head())"
   ]
  },
  {
   "cell_type": "code",
   "execution_count": 744,
   "metadata": {},
   "outputs": [],
   "source": [
    "laptops[\"weight\"] = laptops[\"weight\"].str.replace('[a-zA-Z]', '').astype(float)\n",
    "# laptops.rename({\"weight\": \"weight_kg\"}, axis = 1, inplace = True)"
   ]
  },
  {
   "cell_type": "code",
   "execution_count": 745,
   "metadata": {},
   "outputs": [
    {
     "data": {
      "text/html": [
       "<div>\n",
       "<style scoped>\n",
       "    .dataframe tbody tr th:only-of-type {\n",
       "        vertical-align: middle;\n",
       "    }\n",
       "\n",
       "    .dataframe tbody tr th {\n",
       "        vertical-align: top;\n",
       "    }\n",
       "\n",
       "    .dataframe thead th {\n",
       "        text-align: right;\n",
       "    }\n",
       "</style>\n",
       "<table border=\"1\" class=\"dataframe\">\n",
       "  <thead>\n",
       "    <tr style=\"text-align: right;\">\n",
       "      <th></th>\n",
       "      <th>manufacturer</th>\n",
       "      <th>model_name</th>\n",
       "      <th>category</th>\n",
       "      <th>screen_size_inches</th>\n",
       "      <th>screen</th>\n",
       "      <th>cpu</th>\n",
       "      <th>ram_gb</th>\n",
       "      <th>storage</th>\n",
       "      <th>gpu</th>\n",
       "      <th>operating_system</th>\n",
       "      <th>operating_system_version</th>\n",
       "      <th>weight</th>\n",
       "      <th>price_euros</th>\n",
       "      <th>cpu_manufacturer</th>\n",
       "      <th>os</th>\n",
       "    </tr>\n",
       "  </thead>\n",
       "  <tbody>\n",
       "    <tr>\n",
       "      <th>0</th>\n",
       "      <td>Apple</td>\n",
       "      <td>MacBook Pro</td>\n",
       "      <td>Ultrabook</td>\n",
       "      <td>13.3</td>\n",
       "      <td>IPS Panel Retina Display 2560x1600</td>\n",
       "      <td>Intel Core i5 2.3GHz</td>\n",
       "      <td>8</td>\n",
       "      <td>128GB SSD</td>\n",
       "      <td>Intel Iris Plus Graphics 640</td>\n",
       "      <td>macOS</td>\n",
       "      <td>X</td>\n",
       "      <td>1.37</td>\n",
       "      <td>1339,69</td>\n",
       "      <td>Intel</td>\n",
       "      <td>macOS</td>\n",
       "    </tr>\n",
       "    <tr>\n",
       "      <th>1</th>\n",
       "      <td>Apple</td>\n",
       "      <td>Macbook Air</td>\n",
       "      <td>Ultrabook</td>\n",
       "      <td>13.3</td>\n",
       "      <td>1440x900</td>\n",
       "      <td>Intel Core i5 1.8GHz</td>\n",
       "      <td>8</td>\n",
       "      <td>128GB Flash Storage</td>\n",
       "      <td>Intel HD Graphics 6000</td>\n",
       "      <td>macOS</td>\n",
       "      <td>X</td>\n",
       "      <td>1.34</td>\n",
       "      <td>898,94</td>\n",
       "      <td>Intel</td>\n",
       "      <td>macOS</td>\n",
       "    </tr>\n",
       "    <tr>\n",
       "      <th>2</th>\n",
       "      <td>HP</td>\n",
       "      <td>250 G6</td>\n",
       "      <td>Notebook</td>\n",
       "      <td>15.6</td>\n",
       "      <td>Full HD 1920x1080</td>\n",
       "      <td>Intel Core i5 7200U 2.5GHz</td>\n",
       "      <td>8</td>\n",
       "      <td>256GB SSD</td>\n",
       "      <td>Intel HD Graphics 620</td>\n",
       "      <td>No OS</td>\n",
       "      <td>Version Unknown</td>\n",
       "      <td>1.86</td>\n",
       "      <td>575,00</td>\n",
       "      <td>Intel</td>\n",
       "      <td>No OS</td>\n",
       "    </tr>\n",
       "    <tr>\n",
       "      <th>3</th>\n",
       "      <td>Apple</td>\n",
       "      <td>MacBook Pro</td>\n",
       "      <td>Ultrabook</td>\n",
       "      <td>15.4</td>\n",
       "      <td>IPS Panel Retina Display 2880x1800</td>\n",
       "      <td>Intel Core i7 2.7GHz</td>\n",
       "      <td>16</td>\n",
       "      <td>512GB SSD</td>\n",
       "      <td>AMD Radeon Pro 455</td>\n",
       "      <td>macOS</td>\n",
       "      <td>X</td>\n",
       "      <td>1.83</td>\n",
       "      <td>2537,45</td>\n",
       "      <td>Intel</td>\n",
       "      <td>macOS</td>\n",
       "    </tr>\n",
       "    <tr>\n",
       "      <th>4</th>\n",
       "      <td>Apple</td>\n",
       "      <td>MacBook Pro</td>\n",
       "      <td>Ultrabook</td>\n",
       "      <td>13.3</td>\n",
       "      <td>IPS Panel Retina Display 2560x1600</td>\n",
       "      <td>Intel Core i5 3.1GHz</td>\n",
       "      <td>8</td>\n",
       "      <td>256GB SSD</td>\n",
       "      <td>Intel Iris Plus Graphics 650</td>\n",
       "      <td>macOS</td>\n",
       "      <td>X</td>\n",
       "      <td>1.37</td>\n",
       "      <td>1803,60</td>\n",
       "      <td>Intel</td>\n",
       "      <td>macOS</td>\n",
       "    </tr>\n",
       "  </tbody>\n",
       "</table>\n",
       "</div>"
      ],
      "text/plain": [
       "  manufacturer   model_name   category  screen_size_inches  \\\n",
       "0        Apple  MacBook Pro  Ultrabook                13.3   \n",
       "1        Apple  Macbook Air  Ultrabook                13.3   \n",
       "2           HP       250 G6   Notebook                15.6   \n",
       "3        Apple  MacBook Pro  Ultrabook                15.4   \n",
       "4        Apple  MacBook Pro  Ultrabook                13.3   \n",
       "\n",
       "                               screen                         cpu  ram_gb  \\\n",
       "0  IPS Panel Retina Display 2560x1600        Intel Core i5 2.3GHz       8   \n",
       "1                            1440x900        Intel Core i5 1.8GHz       8   \n",
       "2                   Full HD 1920x1080  Intel Core i5 7200U 2.5GHz       8   \n",
       "3  IPS Panel Retina Display 2880x1800        Intel Core i7 2.7GHz      16   \n",
       "4  IPS Panel Retina Display 2560x1600        Intel Core i5 3.1GHz       8   \n",
       "\n",
       "               storage                           gpu operating_system  \\\n",
       "0            128GB SSD  Intel Iris Plus Graphics 640            macOS   \n",
       "1  128GB Flash Storage        Intel HD Graphics 6000            macOS   \n",
       "2            256GB SSD         Intel HD Graphics 620            No OS   \n",
       "3            512GB SSD            AMD Radeon Pro 455            macOS   \n",
       "4            256GB SSD  Intel Iris Plus Graphics 650            macOS   \n",
       "\n",
       "  operating_system_version  weight price_euros cpu_manufacturer     os  \n",
       "0                        X    1.37     1339,69            Intel  macOS  \n",
       "1                        X    1.34      898,94            Intel  macOS  \n",
       "2          Version Unknown    1.86      575,00            Intel  No OS  \n",
       "3                        X    1.83     2537,45            Intel  macOS  \n",
       "4                        X    1.37     1803,60            Intel  macOS  "
      ]
     },
     "execution_count": 745,
     "metadata": {},
     "output_type": "execute_result"
    }
   ],
   "source": [
    "laptops.head()"
   ]
  },
  {
   "cell_type": "markdown",
   "metadata": {},
   "source": [
    "## Extra Conversions\n",
    "1. Convert price euros to numeric\n",
    "2. Extract screen_resolution from screen column\n",
    "3. Extract the processor_speed from the cpu column"
   ]
  },
  {
   "cell_type": "code",
   "execution_count": 746,
   "metadata": {},
   "outputs": [
    {
     "data": {
      "text/plain": [
       "1799,00    14\n",
       "1099,00    14\n",
       "1499,00    14\n",
       "499,00     11\n",
       "1199,00    11\n",
       "           ..\n",
       "1534,00     1\n",
       "415,00      1\n",
       "859,01      1\n",
       "1948,99     1\n",
       "321,99      1\n",
       "Name: price_euros, Length: 791, dtype: int64"
      ]
     },
     "execution_count": 746,
     "metadata": {},
     "output_type": "execute_result"
    }
   ],
   "source": [
    "# 1.\n",
    "# laptops['price_euros'] = laptops[\"price_euros\"].str.replace('\\D', '').astype(float)\n",
    "laptops['price_euros'].value_counts()"
   ]
  },
  {
   "cell_type": "code",
   "execution_count": 747,
   "metadata": {},
   "outputs": [
    {
     "data": {
      "text/plain": [
       "1920x1080     841\n",
       "1366x768      308\n",
       "43840x2160     43\n",
       "3200x1800      27\n",
       "1600x900       23\n",
       "2560x1440      23\n",
       "2304x1440       6\n",
       "2560x1600       6\n",
       "2256x1504       6\n",
       "1920x1200       5\n",
       "2400x1600       4\n",
       "2880x1800       4\n",
       "1440x900        4\n",
       "2160x1440       2\n",
       "2736x1824       1\n",
       "Name: screen_resolution, dtype: int64"
      ]
     },
     "execution_count": 747,
     "metadata": {},
     "output_type": "execute_result"
    }
   ],
   "source": [
    "# 2. \n",
    "laptops[\"screen_resolution\"] = laptops['screen'].str.replace('[^\\d*x\\d*]', '')\n",
    "laptops[\"screen_resolution\"].value_counts()"
   ]
  },
  {
   "cell_type": "code",
   "execution_count": 763,
   "metadata": {},
   "outputs": [],
   "source": [
    "# 3.\n",
    "# procesor_speed\n",
    "laptops['processor_speed'] = laptops['cpu'].str.split(\" \").str[-1].str.split(\"G\").str[0]\n",
    "# laptops['processor_speed'] = laptops['cpu'].str.split('\\d.*Ghz').str[1].astype(float)\n",
    "# laptops['processor_speed'].value_counts()"
   ]
  },
  {
   "cell_type": "markdown",
   "metadata": {},
   "source": [
    "## Export to CSV "
   ]
  },
  {
   "cell_type": "code",
   "execution_count": 764,
   "metadata": {},
   "outputs": [],
   "source": [
    "laptops.to_csv(\"laptops_cleaned.csv\", index=False)"
   ]
  },
  {
   "cell_type": "markdown",
   "metadata": {},
   "source": [
    "Here are some questions you might like to answer in your own time by analyzing the cleaned data:\n",
    "\n",
    "- Are laptops made by Apple more expensive than those made by other manufacturers?\n",
    "- What is the best value laptop with a screen size of 15\" or more?\n",
    "- Which laptop has the most storage space?"
   ]
  },
  {
   "cell_type": "markdown",
   "metadata": {},
   "source": [
    "Are laptops made by Apple more expensive than those made by other manufacturers?\n",
    "\n",
    "\n"
   ]
  },
  {
   "cell_type": "code",
   "execution_count": null,
   "metadata": {},
   "outputs": [],
   "source": []
  },
  {
   "cell_type": "code",
   "execution_count": null,
   "metadata": {},
   "outputs": [],
   "source": []
  }
 ],
 "metadata": {
  "kernelspec": {
   "display_name": "Python 2",
   "language": "python",
   "name": "python2"
  },
  "language_info": {
   "codemirror_mode": {
    "name": "ipython",
    "version": 2
   },
   "file_extension": ".py",
   "mimetype": "text/x-python",
   "name": "python",
   "nbconvert_exporter": "python",
   "pygments_lexer": "ipython2",
   "version": "2.7.16"
  }
 },
 "nbformat": 4,
 "nbformat_minor": 4
}
