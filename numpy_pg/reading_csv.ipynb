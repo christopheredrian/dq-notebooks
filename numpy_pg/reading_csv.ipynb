{
 "cells": [
  {
   "cell_type": "code",
   "execution_count": 8,
   "metadata": {},
   "outputs": [
    {
     "name": "stdout",
     "output_type": "stream",
     "text": [
      "ZIP                   int64\n",
      "TEAM                 object\n",
      "SUBTEAM              object\n",
      "TERRITORY           float64\n",
      "CITY                 object\n",
      "STATE                object\n",
      "COUNTY               object\n",
      "MANAGER NAME         object\n",
      "FY20 SE NAME         object\n",
      "FY20 Agent Names     object\n",
      "Email Manager        object\n",
      "email                object\n",
      "dtype: object\n"
     ]
    }
   ],
   "source": [
    "import pandas as pd \n",
    "\n",
    "rows = pd.read_csv('widia_zip_codes.csv', index_col=0)\n",
    "\n",
    "# Prints the datatypes per column \n",
    "columns = rows.dtypes\n",
    "\n",
    "print(columns)"
   ]
  },
  {
   "cell_type": "code",
   "execution_count": 15,
   "metadata": {},
   "outputs": [
    {
     "name": "stdout",
     "output_type": "stream",
     "text": [
      "zip_code\n",
      "9002             APO\n",
      "9003             APO\n",
      "9004             APO\n",
      "9005             APO\n",
      "9006             APO\n",
      "            ...     \n",
      "13905     BINGHAMTON\n",
      "29486    SUMMERVILLE\n",
      "97703           BEND\n",
      "86005      FLAGSTAFF\n",
      "60418      CRESTWOOD\n",
      "Name: CITY, Length: 42012, dtype: object\n"
     ]
    }
   ],
   "source": [
    "# Get single column \n",
    "print(rows[\"CITY\"])"
   ]
  },
  {
   "cell_type": "code",
   "execution_count": 28,
   "metadata": {},
   "outputs": [
    {
     "data": {
      "text/plain": [
       "count    42012.000000\n",
       "mean     49427.176926\n",
       "std      28175.069240\n",
       "min        501.000000\n",
       "25%      25539.250000\n",
       "50%      48660.000000\n",
       "75%      73032.250000\n",
       "max      99999.000000\n",
       "Name: ZIP, dtype: float64"
      ]
     },
     "execution_count": 28,
     "metadata": {},
     "output_type": "execute_result"
    }
   ],
   "source": [
    "# zip_code,ZIP,TEAM,SUBTEAM,TERRITORY,CITY,STATE,COUNTY,MANAGER NAME,FY20 SE NAME,FY20 Agent Names,Email Manager,email\n",
    "\n",
    "zip_codes = rows[\"ZIP\"]\n",
    "states = rows[\"STATE\"]\n",
    "# Display statistics on series\n",
    "zip_codes.describe() "
   ]
  },
  {
   "cell_type": "code",
   "execution_count": 32,
   "metadata": {},
   "outputs": [
    {
     "data": {
      "text/plain": [
       "CA    2614\n",
       "TX    2609\n",
       "PA    2193\n",
       "NY    2166\n",
       "IL    1580\n",
       "      ... \n",
       "FM       4\n",
       "MP       3\n",
       "PW       2\n",
       "MH       2\n",
       "AS       1\n",
       "Name: STATE, Length: 62, dtype: int64"
      ]
     },
     "execution_count": 32,
     "metadata": {},
     "output_type": "execute_result"
    }
   ],
   "source": [
    "# Frequency each column \n",
    "# zip_codes.value_counts()\n",
    "states.value_counts()"
   ]
  },
  {
   "cell_type": "code",
   "execution_count": 42,
   "metadata": {},
   "outputs": [
    {
     "data": {
      "text/html": [
       "<div>\n",
       "<style scoped>\n",
       "    .dataframe tbody tr th:only-of-type {\n",
       "        vertical-align: middle;\n",
       "    }\n",
       "\n",
       "    .dataframe tbody tr th {\n",
       "        vertical-align: top;\n",
       "    }\n",
       "\n",
       "    .dataframe thead th {\n",
       "        text-align: right;\n",
       "    }\n",
       "</style>\n",
       "<table border=\"1\" class=\"dataframe\">\n",
       "  <thead>\n",
       "    <tr style=\"text-align: right;\">\n",
       "      <th></th>\n",
       "      <th>ZIP</th>\n",
       "      <th>TERRITORY</th>\n",
       "    </tr>\n",
       "  </thead>\n",
       "  <tbody>\n",
       "    <tr>\n",
       "      <th>count</th>\n",
       "      <td>2614.000000</td>\n",
       "      <td>0.0</td>\n",
       "    </tr>\n",
       "    <tr>\n",
       "      <th>mean</th>\n",
       "      <td>93464.752487</td>\n",
       "      <td>NaN</td>\n",
       "    </tr>\n",
       "    <tr>\n",
       "      <th>std</th>\n",
       "      <td>1789.910391</td>\n",
       "      <td>NaN</td>\n",
       "    </tr>\n",
       "    <tr>\n",
       "      <th>min</th>\n",
       "      <td>90001.000000</td>\n",
       "      <td>NaN</td>\n",
       "    </tr>\n",
       "    <tr>\n",
       "      <th>25%</th>\n",
       "      <td>92117.250000</td>\n",
       "      <td>NaN</td>\n",
       "    </tr>\n",
       "    <tr>\n",
       "      <th>50%</th>\n",
       "      <td>93534.500000</td>\n",
       "      <td>NaN</td>\n",
       "    </tr>\n",
       "    <tr>\n",
       "      <th>75%</th>\n",
       "      <td>95153.750000</td>\n",
       "      <td>NaN</td>\n",
       "    </tr>\n",
       "    <tr>\n",
       "      <th>max</th>\n",
       "      <td>96162.000000</td>\n",
       "      <td>NaN</td>\n",
       "    </tr>\n",
       "  </tbody>\n",
       "</table>\n",
       "</div>"
      ],
      "text/plain": [
       "                ZIP  TERRITORY\n",
       "count   2614.000000        0.0\n",
       "mean   93464.752487        NaN\n",
       "std     1789.910391        NaN\n",
       "min    90001.000000        NaN\n",
       "25%    92117.250000        NaN\n",
       "50%    93534.500000        NaN\n",
       "75%    95153.750000        NaN\n",
       "max    96162.000000        NaN"
      ]
     },
     "execution_count": 42,
     "metadata": {},
     "output_type": "execute_result"
    }
   ],
   "source": [
    "# Boolean indexing \n",
    "rows_on_california_state = rows.loc[rows[\"STATE\"] == \"CA\"]\n",
    "rows_on_california_state.describe()"
   ]
  },
  {
   "cell_type": "code",
   "execution_count": 43,
   "metadata": {},
   "outputs": [
    {
     "name": "stdout",
     "output_type": "stream",
     "text": [
      "<class 'pandas.core.frame.DataFrame'>\n",
      "Int64Index: 2614 entries, 93067 to 92899\n",
      "Data columns (total 12 columns):\n",
      " #   Column            Non-Null Count  Dtype  \n",
      "---  ------            --------------  -----  \n",
      " 0   ZIP               2614 non-null   int64  \n",
      " 1   TEAM              2614 non-null   object \n",
      " 2   SUBTEAM           2614 non-null   object \n",
      " 3   TERRITORY         0 non-null      float64\n",
      " 4   CITY              2614 non-null   object \n",
      " 5   STATE             2614 non-null   object \n",
      " 6   COUNTY            2614 non-null   object \n",
      " 7   MANAGER NAME      2614 non-null   object \n",
      " 8   FY20 SE NAME      2221 non-null   object \n",
      " 9   FY20 Agent Names  2614 non-null   object \n",
      " 10  Email Manager     2614 non-null   object \n",
      " 11  email             2614 non-null   object \n",
      "dtypes: float64(1), int64(1), object(10)\n",
      "memory usage: 265.5+ KB\n"
     ]
    }
   ],
   "source": [
    "rows_on_california_state.info()"
   ]
  },
  {
   "cell_type": "code",
   "execution_count": null,
   "metadata": {},
   "outputs": [],
   "source": []
  }
 ],
 "metadata": {
  "kernelspec": {
   "display_name": "Python 3",
   "language": "python",
   "name": "python3"
  },
  "language_info": {
   "codemirror_mode": {
    "name": "ipython",
    "version": 3
   },
   "file_extension": ".py",
   "mimetype": "text/x-python",
   "name": "python",
   "nbconvert_exporter": "python",
   "pygments_lexer": "ipython3",
   "version": "3.7.6"
  }
 },
 "nbformat": 4,
 "nbformat_minor": 4
}
